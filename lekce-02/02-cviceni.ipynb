{
 "cells": [
  {
   "cell_type": "markdown",
   "metadata": {},
   "source": [
    "# Cvičení"
   ]
  },
  {
   "cell_type": "code",
   "execution_count": 1,
   "metadata": {},
   "outputs": [],
   "source": [
    "import pandas as pd"
   ]
  },
  {
   "cell_type": "code",
   "execution_count": null,
   "metadata": {},
   "outputs": [],
   "source": [
    "\n",
    "url_food_nutrient = \"https://kodim.cz/cms/assets/czechitas/python-data-1/python-pro-data-1/podmineny-vyber/podmineny-vyber/food_nutrient.csv\"\n",
    "food_nutrient = pd.read_csv(url_food_nutrient)"
   ]
  },
  {
   "cell_type": "markdown",
   "metadata": {},
   "source": [
    "## Vláknina"
   ]
  },
  {
   "cell_type": "markdown",
   "metadata": {},
   "source": [
    "Problémem dnešních potravin je často nedostatek vlákniny. \n",
    "\n",
    "Konzumace potravin bohatých na vlákninu může být pro řadu lidí zdravotně prospěná. \n",
    "\n",
    "Vyhledej v tabulce `food_nutrient` potraviny, které obsahují alespoň 10 gramů vlákniny. \n",
    "\n",
    "Vláknina je uložená pod názvem `Fiber, total dietary`. \n",
    "\n",
    "Napiš dotaz jako jeden příkaz a využij operátor `&`."
   ]
  },
  {
   "cell_type": "code",
   "execution_count": null,
   "metadata": {},
   "outputs": [],
   "source": [
    "food_nutrient[\n",
    "    (food_nutrient[\"name\"] == \"Fiber, total dietary\")\n",
    "      & (food_nutrient[\"amount\"] >= 10)\n",
    "      ]"
   ]
  },
  {
   "cell_type": "markdown",
   "metadata": {},
   "source": [
    "## Hlášení chyb"
   ]
  },
  {
   "cell_type": "markdown",
   "metadata": {},
   "source": [
    "V datech se bohužel můžou vyskytnout i chyby.\n",
    "\n",
    " V případě výživných látek jsou uváděné hodnoty vždy přepočtené na 100 gramů potraviny. \n",
    " \n",
    " Chybou by tedy například bylo, pokud by bylo nějaké výživné látky v potravině více než 100 gramů, tj. výživné látky by bylo více než samotné potraviny. \n",
    " \n",
    " Podobně to platí i pro miligramy. Více než 100 000 miligramů výživné látky též nedává smysl (1 gram = 1 000 miligramů)."
   ]
  },
  {
   "cell_type": "markdown",
   "metadata": {},
   "source": [
    "Vyhledej všechny řádky, kde jsou hodnoty v miligramech (ve sloupci `unit_name` je hodnota `MG`) a množství látky (sloupec `amount`) má větší hodnotu než 100 000. "
   ]
  },
  {
   "cell_type": "code",
   "execution_count": null,
   "metadata": {},
   "outputs": [],
   "source": [
    "errors = food_nutrient[(food_nutrient[\"unit_name\"] == \"MG\") & (food_nutrient[\"amount\"] > 100_000)]\n",
    "errors"
   ]
  },
  {
   "cell_type": "markdown",
   "metadata": {},
   "source": [
    "Ulož tato data do tabulky `error_report.csv`. K tomu využij metodu `.to_csv()`, které zadáš jako parametr název tabulky. \n",
    "\n",
    "Níže je příklad jejího použití.\n",
    "\n",
    "```\n",
    "tabulky.to_csv(\"nazev_souboru.csv\")\n",
    "```\n",
    "\n",
    "Takto vytvořenou tabulku bychom mohli poslat poskytovateli dat a požádat ho o opravu."
   ]
  },
  {
   "cell_type": "code",
   "execution_count": null,
   "metadata": {},
   "outputs": [],
   "source": [
    "errors.to_csv(\"error_reports.csv\")\n",
    "# errors.to_csv(\"error_reports.csv\", index=False)"
   ]
  },
  {
   "cell_type": "markdown",
   "metadata": {},
   "source": [
    "## Česká jména"
   ]
  },
  {
   "cell_type": "markdown",
   "metadata": {},
   "source": [
    "Použij soubor `jmena.csv` se jmény a načti ho tak, aby Pandas vyrobil číselný index. "
   ]
  },
  {
   "cell_type": "code",
   "execution_count": null,
   "metadata": {},
   "outputs": [],
   "source": [
    "url = \"https://kodim.cz/cms/assets/czechitas/python-data-1/python-pro-data-1/podmineny-vyber/podmineny-vyber/ceska-jmena/jmena.csv\"\n",
    "jmena = pd.read_csv(url)"
   ]
  },
  {
   "cell_type": "markdown",
   "metadata": {},
   "source": [
    "Proveď následující dotazy:"
   ]
  },
  {
   "cell_type": "markdown",
   "metadata": {},
   "source": [
    "Vypiš všechny řádky se jmény, jejichž nositelé mají průměrný věk vyšší než 60.\n"
   ]
  },
  {
   "cell_type": "code",
   "execution_count": null,
   "metadata": {},
   "outputs": [],
   "source": [
    "jmena[jmena[\"prumerny_vek\"] > 60]"
   ]
  },
  {
   "cell_type": "markdown",
   "metadata": {},
   "source": [
    "Vypiš pouze jména z těch řádků, kde četnost je mezi 80 000 a 100 000.\n"
   ]
  },
  {
   "cell_type": "code",
   "execution_count": null,
   "metadata": {},
   "outputs": [],
   "source": [
    "jmena[(jmena[\"cetnost\"] >= 80_000) & (jmena[\"cetnost\"] <= 100_000)]"
   ]
  },
  {
   "cell_type": "markdown",
   "metadata": {},
   "source": [
    "Vypiš jména a četnost pro jména se slovanským nebo hebrejským původem. Kolik takových jmen je?\n",
    "\n",
    "Pro poslední úkol můžeš využít operátor |. Alternativně si můžeš vyzkoušet metodu .isin(), která zápis zkrátí. \n",
    "\n",
    "Jako parametr vkládáme seznam hodnot, které vyhovují podmínce. \n",
    "\n",
    "Níže je příklad použití metody. Z tabulky tabulka chceme vybrat řádky, které ve sloupci sloupec mají hodnotu hodnota_1 nebo hodnota_2. \n",
    "\n",
    "Pokud jsi vytvořil(a) i verzi s operátorem |, můžeš obě verze porovnat a rozhodnout se, která verze se ti líbí více.\n",
    "\n",
    "`tabulka = tabulka[tabulka[\"sloupec\"].isin([\"hodnota_1\", \"hodnota_2\"])]`\n"
   ]
  },
  {
   "cell_type": "code",
   "execution_count": null,
   "metadata": {},
   "outputs": [],
   "source": [
    "jmena[(jmena[\"puvod\"] == \"slovanský\") | (jmena[\"puvod\"] == \"hebrejský\")]\n",
    "# jmena[jmena[\"puvod\"].isin([\"slovanský\", \"hebrejský\"])]"
   ]
  },
  {
   "cell_type": "markdown",
   "metadata": {},
   "source": [
    "## Dvě kritéria"
   ]
  },
  {
   "cell_type": "markdown",
   "metadata": {},
   "source": [
    "Připravujeme seznam potravin pro účely lékařského výzkumu, který se bude zabývat kardiovaskulárním systémem. Chceme vybrat potraviny, které splňují dvě kritéria:\n",
    "\n",
    "- nízký obsah nasycených mastných kyselin (`Fatty acids, total saturated`, uvažuj méně než 1 gram),\n",
    "- vysoký obsah vlákniny (`Fiber, total dietary`, uvažuj více než 5 gramů).\n",
    "\n",
    "Zatímco nasycené mastné kyseliny jsou považovány za spíše škodlivé pro kardiovaskulární systém, vláknina je považována spíše za prospěšnou.\n",
    "\n",
    "Nejprve je potřeba napsat dotaz, který potraviny vybere. Dotaz je poměrně složitý, ale později si v rámci kurzu ukážeme, jak takovou úlohu vyřešit jednodušeji. Je potřeba použít operátor & i | a závorky, pomocí kterých řídíme, které podmínky se vyhodnocují spolu. Níže jsou rozepsané podmínky, které budeme potřebovat:\n",
    "\n",
    "- Ve sloupci \"name\" musí být hodnota \"Fatty acids, total saturated\" a současně ve sloupci \"amount\" hodnota menší než 1. Mezi tyto podmínky vložíme operátor &, protože musí být splněné obě.\n",
    "- Ve sloupci \"name\" musí být hodnota \"Fiber, total dietary\" a současně ve sloupci \"amount\" hodnota vetší než 4. Mezi tyto podmínky vložíme operátor &, protože musí být splněné obě.\n",
    "\n",
    "Protože obě výživné látky jsou na samostatném řádku, musíme mezi obě podmínky dát operátor |. Pokud nějaká potraviny splňuje obě podmínky, bude tedy ve výsledné tabulce dvakrát. Pokud splňuje pouze jednou z podmínek, bude ve výsledné tabulce pouze jednou. Počet výskytů potraviny ve výsledné tabulce můžeme ověřit pomocí metodu values_count().\n",
    "\n",
    "U kombinace operátorů & a | je vhodné uvědomit si, v jaké prioritě by měly být používány. Ač to zní složitě, je to pojem, který už známe z úvodního kurzu z příkladu, kde jsme používali násobení a sčítání v jednom příkladu. Pro operátory & a | platí, že operátor & máš vyšší prioritu než |. To nám vyhovuje, protože my chceme nejprve vyhodnotit podmínky s operátorem & a poté spojit výsledky s využitím opretáro |.\n",
    "\n",
    "Níže je tedy struktura, kterou je potřeba upravit, aby řešila popsané podmínky.\n",
    "\n",
    "```\n",
    "food_nutrient_filtered = food_nutrient[(ve sloupci \"name\" je hodnota \"Fatty acids, total saturated\") & (ve sloupci \"amount\" je hodnota menší než 1) | (ve sloupci \"name\" je hodnota \"Fiber, total dietary\") & (ve sloupci \"amount\" je hodnota větší než 4)]\n",
    "```\n",
    "\n",
    "Pokud se úvaze o priotách chceš vyhnout, je možné to vyřešit přidanými závorkami. Tyto závorky nijak neovlivňují, jak Python příkaz vyhodnotí, ale můžou zlepšit čistelnost a pochopitelnost příkazu pro člověka.\n",
    "\n",
    "```\n",
    "food_nutrient_filtered = food_nutrient[((ve sloupci \"name\" je hodnota \"Fatty acids, total saturated\") & (ve sloupci \"amount\" je hodnota menší než 1)) | ((ve sloupci \"name\" je hodnota \"Fiber, total dietary\") & (ve sloupci \"amount\" je hodnota větší než 4))]\n",
    "```"
   ]
  },
  {
   "cell_type": "code",
   "execution_count": null,
   "metadata": {},
   "outputs": [],
   "source": [
    "food_nutrient_filtered = food_nutrient[(food_nutrient[\"name\"] == \"Fatty acids, total saturated\") \n",
    "                                      & (food_nutrient[\"amount\"] < 1) \n",
    "                                      | (food_nutrient[\"name\"] == \"Fiber, total dietary\") \n",
    "                                      & (food_nutrient[\"amount\"] > 4)]\n",
    "\n",
    "food_nutrient_filtered[\"name\"].value_counts()"
   ]
  },
  {
   "cell_type": "markdown",
   "metadata": {},
   "source": [
    "## Čtení na doma: Skupiny"
   ]
  },
  {
   "cell_type": "code",
   "execution_count": null,
   "metadata": {},
   "outputs": [],
   "source": [
    "bins = [-1, 140, 400, 1000, float('inf')]\n",
    "labels = ['Low Sodium', 'Moderately Low Sodium', 'Moderately High Sodium', 'High Sodium']"
   ]
  },
  {
   "cell_type": "code",
   "execution_count": null,
   "metadata": {},
   "outputs": [],
   "source": [
    "sodium = food_nutrient[food_nutrient[\"name\"] == \"Sodium, Na\"]\n",
    "\n",
    "sodium['Sodium Group'] = pd.cut(sodium[\"amount\"], bins, labels=labels)\n",
    "sodium"
   ]
  }
 ],
 "metadata": {
  "kernelspec": {
   "display_name": "Python 3",
   "language": "python",
   "name": "python3"
  },
  "language_info": {
   "codemirror_mode": {
    "name": "ipython",
    "version": 3
   },
   "file_extension": ".py",
   "mimetype": "text/x-python",
   "name": "python",
   "nbconvert_exporter": "python",
   "pygments_lexer": "ipython3",
   "version": "3.12.3"
  }
 },
 "nbformat": 4,
 "nbformat_minor": 2
}
